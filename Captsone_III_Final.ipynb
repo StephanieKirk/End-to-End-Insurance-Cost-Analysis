{
  "nbformat": 4,
  "nbformat_minor": 0,
  "metadata": {
    "colab": {
      "name": "Captsone III Final.ipynb",
      "provenance": [],
      "authorship_tag": "ABX9TyP5PrRUMl9hie9IXYt7hKk1",
      "include_colab_link": true
    },
    "kernelspec": {
      "name": "python3",
      "display_name": "Python 3"
    },
    "language_info": {
      "name": "python"
    }
  },
  "cells": [
    {
      "cell_type": "markdown",
      "metadata": {
        "id": "view-in-github",
        "colab_type": "text"
      },
      "source": [
        "<a href=\"https://colab.research.google.com/github/StephanieKirk/End-to-End-Insurance-Cost-Analysis/blob/main/Captsone_III_Final.ipynb\" target=\"_parent\"><img src=\"https://colab.research.google.com/assets/colab-badge.svg\" alt=\"Open In Colab\"/></a>"
      ]
    },
    {
      "cell_type": "markdown",
      "source": [
        "## **Insurance Cost Capstone III**\n",
        "\n"
      ],
      "metadata": {
        "id": "vKoT17df3hyC"
      }
    },
    {
      "cell_type": "markdown",
      "source": [
        "by Stephanie Kirk"
      ],
      "metadata": {
        "id": "W1Xfv0X4o-po"
      }
    },
    {
      "cell_type": "markdown",
      "source": [
        "Link to Dataset and supplemental documentation: https://www.kaggle.com/mirichoi0218/insurance"
      ],
      "metadata": {
        "id": "d4lE1QU1wbDx"
      }
    },
    {
      "cell_type": "markdown",
      "source": [
        "Objective: Using this dataset I will identify potential factors in determining BMI. To do this I have formed 2 hypotheses to test.\n",
        "\n"
      ],
      "metadata": {
        "id": "FqYwcsks4BJz"
      }
    },
    {
      "cell_type": "markdown",
      "source": [
        "1) Null hypothesis: There is no significant difference in BMI between beneficiaries that are older or younger than 40 years old.\n",
        "\n",
        "Alternative hypothesis: There is a significant difference in BMI between beneficiaries that are older or younger than 40 years old.\n",
        "\n"
      ],
      "metadata": {
        "id": "PDFcQ2HDo0v8"
      }
    },
    {
      "cell_type": "markdown",
      "source": [
        "2) Null hypothesis: There is no significant difference in BMI between the northern and southern regions of the beneficiary’s residences.\n",
        "\n",
        "Alternative hypothesis: There is a significant difference in BMI between northern and southern regions."
      ],
      "metadata": {
        "id": "8-WJbvkto3dg"
      }
    },
    {
      "cell_type": "code",
      "source": [
        "from sqlalchemy import create_engine\n",
        "import math\n",
        "import pandas as pd\n",
        "import matplotlib.pyplot as plt\n",
        "from scipy import stats\n",
        "import seaborn as sns\n",
        "sns.set()\n",
        "import warnings"
      ],
      "metadata": {
        "id": "Lzm0zLN2PQ_4"
      },
      "execution_count": null,
      "outputs": []
    },
    {
      "cell_type": "markdown",
      "source": [
        "# **Dataset**\n",
        "\n",
        "---\n",
        "\n"
      ],
      "metadata": {
        "id": "dI6Qq4QYpdQz"
      }
    },
    {
      "cell_type": "code",
      "source": [
        "warnings.filterwarnings(\"ignore\")\n",
        "insurance_df = pd.read_csv('https://raw.githubusercontent.com/StephanieKirk/Converstion-Cap/main/insurance_cost.csv')\n",
        "insurance_df.head()"
      ],
      "metadata": {
        "colab": {
          "base_uri": "https://localhost:8080/",
          "height": 206
        },
        "id": "EzB302_k3zpD",
        "outputId": "ac9c6753-84c8-4635-dd8d-d2a07dae9c85"
      },
      "execution_count": null,
      "outputs": [
        {
          "output_type": "execute_result",
          "data": {
            "text/html": [
              "\n",
              "  <div id=\"df-b52d3e82-759e-489a-862e-8e9e9f2d1e43\">\n",
              "    <div class=\"colab-df-container\">\n",
              "      <div>\n",
              "<style scoped>\n",
              "    .dataframe tbody tr th:only-of-type {\n",
              "        vertical-align: middle;\n",
              "    }\n",
              "\n",
              "    .dataframe tbody tr th {\n",
              "        vertical-align: top;\n",
              "    }\n",
              "\n",
              "    .dataframe thead th {\n",
              "        text-align: right;\n",
              "    }\n",
              "</style>\n",
              "<table border=\"1\" class=\"dataframe\">\n",
              "  <thead>\n",
              "    <tr style=\"text-align: right;\">\n",
              "      <th></th>\n",
              "      <th>age</th>\n",
              "      <th>sex</th>\n",
              "      <th>bmi</th>\n",
              "      <th>children</th>\n",
              "      <th>smoker</th>\n",
              "      <th>region</th>\n",
              "      <th>charges</th>\n",
              "    </tr>\n",
              "  </thead>\n",
              "  <tbody>\n",
              "    <tr>\n",
              "      <th>0</th>\n",
              "      <td>19</td>\n",
              "      <td>female</td>\n",
              "      <td>27.900</td>\n",
              "      <td>0</td>\n",
              "      <td>yes</td>\n",
              "      <td>southwest</td>\n",
              "      <td>16884.92400</td>\n",
              "    </tr>\n",
              "    <tr>\n",
              "      <th>1</th>\n",
              "      <td>18</td>\n",
              "      <td>male</td>\n",
              "      <td>33.770</td>\n",
              "      <td>1</td>\n",
              "      <td>no</td>\n",
              "      <td>southeast</td>\n",
              "      <td>1725.55230</td>\n",
              "    </tr>\n",
              "    <tr>\n",
              "      <th>2</th>\n",
              "      <td>28</td>\n",
              "      <td>male</td>\n",
              "      <td>33.000</td>\n",
              "      <td>3</td>\n",
              "      <td>no</td>\n",
              "      <td>southeast</td>\n",
              "      <td>4449.46200</td>\n",
              "    </tr>\n",
              "    <tr>\n",
              "      <th>3</th>\n",
              "      <td>33</td>\n",
              "      <td>male</td>\n",
              "      <td>22.705</td>\n",
              "      <td>0</td>\n",
              "      <td>no</td>\n",
              "      <td>northwest</td>\n",
              "      <td>21984.47061</td>\n",
              "    </tr>\n",
              "    <tr>\n",
              "      <th>4</th>\n",
              "      <td>32</td>\n",
              "      <td>male</td>\n",
              "      <td>28.880</td>\n",
              "      <td>0</td>\n",
              "      <td>no</td>\n",
              "      <td>northwest</td>\n",
              "      <td>3866.85520</td>\n",
              "    </tr>\n",
              "  </tbody>\n",
              "</table>\n",
              "</div>\n",
              "      <button class=\"colab-df-convert\" onclick=\"convertToInteractive('df-b52d3e82-759e-489a-862e-8e9e9f2d1e43')\"\n",
              "              title=\"Convert this dataframe to an interactive table.\"\n",
              "              style=\"display:none;\">\n",
              "        \n",
              "  <svg xmlns=\"http://www.w3.org/2000/svg\" height=\"24px\"viewBox=\"0 0 24 24\"\n",
              "       width=\"24px\">\n",
              "    <path d=\"M0 0h24v24H0V0z\" fill=\"none\"/>\n",
              "    <path d=\"M18.56 5.44l.94 2.06.94-2.06 2.06-.94-2.06-.94-.94-2.06-.94 2.06-2.06.94zm-11 1L8.5 8.5l.94-2.06 2.06-.94-2.06-.94L8.5 2.5l-.94 2.06-2.06.94zm10 10l.94 2.06.94-2.06 2.06-.94-2.06-.94-.94-2.06-.94 2.06-2.06.94z\"/><path d=\"M17.41 7.96l-1.37-1.37c-.4-.4-.92-.59-1.43-.59-.52 0-1.04.2-1.43.59L10.3 9.45l-7.72 7.72c-.78.78-.78 2.05 0 2.83L4 21.41c.39.39.9.59 1.41.59.51 0 1.02-.2 1.41-.59l7.78-7.78 2.81-2.81c.8-.78.8-2.07 0-2.86zM5.41 20L4 18.59l7.72-7.72 1.47 1.35L5.41 20z\"/>\n",
              "  </svg>\n",
              "      </button>\n",
              "      \n",
              "  <style>\n",
              "    .colab-df-container {\n",
              "      display:flex;\n",
              "      flex-wrap:wrap;\n",
              "      gap: 12px;\n",
              "    }\n",
              "\n",
              "    .colab-df-convert {\n",
              "      background-color: #E8F0FE;\n",
              "      border: none;\n",
              "      border-radius: 50%;\n",
              "      cursor: pointer;\n",
              "      display: none;\n",
              "      fill: #1967D2;\n",
              "      height: 32px;\n",
              "      padding: 0 0 0 0;\n",
              "      width: 32px;\n",
              "    }\n",
              "\n",
              "    .colab-df-convert:hover {\n",
              "      background-color: #E2EBFA;\n",
              "      box-shadow: 0px 1px 2px rgba(60, 64, 67, 0.3), 0px 1px 3px 1px rgba(60, 64, 67, 0.15);\n",
              "      fill: #174EA6;\n",
              "    }\n",
              "\n",
              "    [theme=dark] .colab-df-convert {\n",
              "      background-color: #3B4455;\n",
              "      fill: #D2E3FC;\n",
              "    }\n",
              "\n",
              "    [theme=dark] .colab-df-convert:hover {\n",
              "      background-color: #434B5C;\n",
              "      box-shadow: 0px 1px 3px 1px rgba(0, 0, 0, 0.15);\n",
              "      filter: drop-shadow(0px 1px 2px rgba(0, 0, 0, 0.3));\n",
              "      fill: #FFFFFF;\n",
              "    }\n",
              "  </style>\n",
              "\n",
              "      <script>\n",
              "        const buttonEl =\n",
              "          document.querySelector('#df-b52d3e82-759e-489a-862e-8e9e9f2d1e43 button.colab-df-convert');\n",
              "        buttonEl.style.display =\n",
              "          google.colab.kernel.accessAllowed ? 'block' : 'none';\n",
              "\n",
              "        async function convertToInteractive(key) {\n",
              "          const element = document.querySelector('#df-b52d3e82-759e-489a-862e-8e9e9f2d1e43');\n",
              "          const dataTable =\n",
              "            await google.colab.kernel.invokeFunction('convertToInteractive',\n",
              "                                                     [key], {});\n",
              "          if (!dataTable) return;\n",
              "\n",
              "          const docLinkHtml = 'Like what you see? Visit the ' +\n",
              "            '<a target=\"_blank\" href=https://colab.research.google.com/notebooks/data_table.ipynb>data table notebook</a>'\n",
              "            + ' to learn more about interactive tables.';\n",
              "          element.innerHTML = '';\n",
              "          dataTable['output_type'] = 'display_data';\n",
              "          await google.colab.output.renderOutput(dataTable, element);\n",
              "          const docLink = document.createElement('div');\n",
              "          docLink.innerHTML = docLinkHtml;\n",
              "          element.appendChild(docLink);\n",
              "        }\n",
              "      </script>\n",
              "    </div>\n",
              "  </div>\n",
              "  "
            ],
            "text/plain": [
              "   age     sex     bmi  children smoker     region      charges\n",
              "0   19  female  27.900         0    yes  southwest  16884.92400\n",
              "1   18    male  33.770         1     no  southeast   1725.55230\n",
              "2   28    male  33.000         3     no  southeast   4449.46200\n",
              "3   33    male  22.705         0     no  northwest  21984.47061\n",
              "4   32    male  28.880         0     no  northwest   3866.85520"
            ]
          },
          "metadata": {},
          "execution_count": 2
        }
      ]
    },
    {
      "cell_type": "markdown",
      "source": [
        "**Dataset Features**\n"
      ],
      "metadata": {
        "id": "koU6zHAZ4wej"
      }
    },
    {
      "cell_type": "markdown",
      "source": [
        "***Column Definitions***\n",
        "\n",
        "Age: Age of primary beneficiary.\n",
        "\n",
        "BMI: Body mass index, weight relative to height (kg/m^2)\n",
        "\n",
        "Region: The beneficiary's residential area in the US, northeast, southeast, southwest, northwest.\n",
        "\n",
        "Sex: Insurance contractor gender, female, male\n",
        "\n",
        "Children: Number of children covered by health insurance / Number of dependents\n",
        "\n",
        "Charges: Individual medical costs billed by health insurance"
      ],
      "metadata": {
        "id": "zco7g4hcdm-j"
      }
    },
    {
      "cell_type": "code",
      "source": [
        "insurance_df.info()"
      ],
      "metadata": {
        "colab": {
          "base_uri": "https://localhost:8080/"
        },
        "id": "ZT4JV_uP8j94",
        "outputId": "9d7da185-9ce2-4859-e806-2bcaf4bb311b"
      },
      "execution_count": null,
      "outputs": [
        {
          "output_type": "stream",
          "name": "stdout",
          "text": [
            "<class 'pandas.core.frame.DataFrame'>\n",
            "RangeIndex: 1338 entries, 0 to 1337\n",
            "Data columns (total 7 columns):\n",
            " #   Column    Non-Null Count  Dtype  \n",
            "---  ------    --------------  -----  \n",
            " 0   age       1338 non-null   int64  \n",
            " 1   sex       1338 non-null   object \n",
            " 2   bmi       1338 non-null   float64\n",
            " 3   children  1338 non-null   int64  \n",
            " 4   smoker    1338 non-null   object \n",
            " 5   region    1338 non-null   object \n",
            " 6   charges   1338 non-null   float64\n",
            "dtypes: float64(2), int64(2), object(3)\n",
            "memory usage: 73.3+ KB\n"
          ]
        }
      ]
    },
    {
      "cell_type": "code",
      "source": [
        "insurance_df.shape"
      ],
      "metadata": {
        "colab": {
          "base_uri": "https://localhost:8080/"
        },
        "id": "TN6fhKgk8g9r",
        "outputId": "7428fede-812f-4271-f091-7d46a4baeb8a"
      },
      "execution_count": null,
      "outputs": [
        {
          "output_type": "execute_result",
          "data": {
            "text/plain": [
              "(1338, 7)"
            ]
          },
          "metadata": {},
          "execution_count": 4
        }
      ]
    },
    {
      "cell_type": "markdown",
      "source": [
        "This dataset has 7 columns and 1338 rows of customer factors and health information with no Null values. These columns contain string, floats, and integers."
      ],
      "metadata": {
        "id": "nlglk1E54gQg"
      }
    },
    {
      "cell_type": "markdown",
      "source": [
        "# **Data Frame Manipulation**\n",
        "\n",
        "---\n"
      ],
      "metadata": {
        "id": "VZ5HoDYd45ww"
      }
    },
    {
      "cell_type": "markdown",
      "source": [
        "In this section I will create buckets for my variables. These buckets will allow me to test my hypotheses."
      ],
      "metadata": {
        "id": "H1RNYPVv5IUa"
      }
    },
    {
      "cell_type": "markdown",
      "source": [
        "***1) Region***\n",
        "\n",
        "In this cell I will be converting Region into two categories North and South where North = 0 and South = 1. This column will be named south. "
      ],
      "metadata": {
        "id": "xDSstjdV9ooG"
      }
    },
    {
      "cell_type": "code",
      "source": [
        "df_region_one = pd.get_dummies(insurance_df[\"region\"])\n",
        "\n",
        "df_region_two = pd.concat((df_region_one, insurance_df), axis=1)\n",
        "\n",
        "df_region_two['north'] = df_region_two['northeast']+df_region_two['northwest']\n",
        "df_region_two['south'] = df_region_two['southeast']+df_region_two['southwest']\n",
        "df_region_two = df_region_two.drop([\"northeast\"], axis=1)\n",
        "df_region_two = df_region_two.drop([\"northwest\"], axis=1)\n",
        "df_region_two = df_region_two.drop([\"southeast\"], axis=1)\n",
        "df_region_two = df_region_two.drop([\"southwest\"], axis=1)\n",
        "df_region_two = df_region_two.drop([\"north\"], axis=1)\n",
        "south_column = df_region_two['south']\n",
        "insurance_df = pd.concat([insurance_df,south_column], axis = 1)\n",
        "insurance_df.head()"
      ],
      "metadata": {
        "colab": {
          "base_uri": "https://localhost:8080/",
          "height": 206
        },
        "id": "9TEdAOXA9zEi",
        "outputId": "7048a9d8-644e-4ed2-96a2-1c82c59f7721"
      },
      "execution_count": null,
      "outputs": [
        {
          "output_type": "execute_result",
          "data": {
            "text/html": [
              "\n",
              "  <div id=\"df-8b66e360-7870-4062-9e11-819578288316\">\n",
              "    <div class=\"colab-df-container\">\n",
              "      <div>\n",
              "<style scoped>\n",
              "    .dataframe tbody tr th:only-of-type {\n",
              "        vertical-align: middle;\n",
              "    }\n",
              "\n",
              "    .dataframe tbody tr th {\n",
              "        vertical-align: top;\n",
              "    }\n",
              "\n",
              "    .dataframe thead th {\n",
              "        text-align: right;\n",
              "    }\n",
              "</style>\n",
              "<table border=\"1\" class=\"dataframe\">\n",
              "  <thead>\n",
              "    <tr style=\"text-align: right;\">\n",
              "      <th></th>\n",
              "      <th>age</th>\n",
              "      <th>sex</th>\n",
              "      <th>bmi</th>\n",
              "      <th>children</th>\n",
              "      <th>smoker</th>\n",
              "      <th>region</th>\n",
              "      <th>charges</th>\n",
              "      <th>south</th>\n",
              "    </tr>\n",
              "  </thead>\n",
              "  <tbody>\n",
              "    <tr>\n",
              "      <th>0</th>\n",
              "      <td>19</td>\n",
              "      <td>female</td>\n",
              "      <td>27.900</td>\n",
              "      <td>0</td>\n",
              "      <td>yes</td>\n",
              "      <td>southwest</td>\n",
              "      <td>16884.92400</td>\n",
              "      <td>1</td>\n",
              "    </tr>\n",
              "    <tr>\n",
              "      <th>1</th>\n",
              "      <td>18</td>\n",
              "      <td>male</td>\n",
              "      <td>33.770</td>\n",
              "      <td>1</td>\n",
              "      <td>no</td>\n",
              "      <td>southeast</td>\n",
              "      <td>1725.55230</td>\n",
              "      <td>1</td>\n",
              "    </tr>\n",
              "    <tr>\n",
              "      <th>2</th>\n",
              "      <td>28</td>\n",
              "      <td>male</td>\n",
              "      <td>33.000</td>\n",
              "      <td>3</td>\n",
              "      <td>no</td>\n",
              "      <td>southeast</td>\n",
              "      <td>4449.46200</td>\n",
              "      <td>1</td>\n",
              "    </tr>\n",
              "    <tr>\n",
              "      <th>3</th>\n",
              "      <td>33</td>\n",
              "      <td>male</td>\n",
              "      <td>22.705</td>\n",
              "      <td>0</td>\n",
              "      <td>no</td>\n",
              "      <td>northwest</td>\n",
              "      <td>21984.47061</td>\n",
              "      <td>0</td>\n",
              "    </tr>\n",
              "    <tr>\n",
              "      <th>4</th>\n",
              "      <td>32</td>\n",
              "      <td>male</td>\n",
              "      <td>28.880</td>\n",
              "      <td>0</td>\n",
              "      <td>no</td>\n",
              "      <td>northwest</td>\n",
              "      <td>3866.85520</td>\n",
              "      <td>0</td>\n",
              "    </tr>\n",
              "  </tbody>\n",
              "</table>\n",
              "</div>\n",
              "      <button class=\"colab-df-convert\" onclick=\"convertToInteractive('df-8b66e360-7870-4062-9e11-819578288316')\"\n",
              "              title=\"Convert this dataframe to an interactive table.\"\n",
              "              style=\"display:none;\">\n",
              "        \n",
              "  <svg xmlns=\"http://www.w3.org/2000/svg\" height=\"24px\"viewBox=\"0 0 24 24\"\n",
              "       width=\"24px\">\n",
              "    <path d=\"M0 0h24v24H0V0z\" fill=\"none\"/>\n",
              "    <path d=\"M18.56 5.44l.94 2.06.94-2.06 2.06-.94-2.06-.94-.94-2.06-.94 2.06-2.06.94zm-11 1L8.5 8.5l.94-2.06 2.06-.94-2.06-.94L8.5 2.5l-.94 2.06-2.06.94zm10 10l.94 2.06.94-2.06 2.06-.94-2.06-.94-.94-2.06-.94 2.06-2.06.94z\"/><path d=\"M17.41 7.96l-1.37-1.37c-.4-.4-.92-.59-1.43-.59-.52 0-1.04.2-1.43.59L10.3 9.45l-7.72 7.72c-.78.78-.78 2.05 0 2.83L4 21.41c.39.39.9.59 1.41.59.51 0 1.02-.2 1.41-.59l7.78-7.78 2.81-2.81c.8-.78.8-2.07 0-2.86zM5.41 20L4 18.59l7.72-7.72 1.47 1.35L5.41 20z\"/>\n",
              "  </svg>\n",
              "      </button>\n",
              "      \n",
              "  <style>\n",
              "    .colab-df-container {\n",
              "      display:flex;\n",
              "      flex-wrap:wrap;\n",
              "      gap: 12px;\n",
              "    }\n",
              "\n",
              "    .colab-df-convert {\n",
              "      background-color: #E8F0FE;\n",
              "      border: none;\n",
              "      border-radius: 50%;\n",
              "      cursor: pointer;\n",
              "      display: none;\n",
              "      fill: #1967D2;\n",
              "      height: 32px;\n",
              "      padding: 0 0 0 0;\n",
              "      width: 32px;\n",
              "    }\n",
              "\n",
              "    .colab-df-convert:hover {\n",
              "      background-color: #E2EBFA;\n",
              "      box-shadow: 0px 1px 2px rgba(60, 64, 67, 0.3), 0px 1px 3px 1px rgba(60, 64, 67, 0.15);\n",
              "      fill: #174EA6;\n",
              "    }\n",
              "\n",
              "    [theme=dark] .colab-df-convert {\n",
              "      background-color: #3B4455;\n",
              "      fill: #D2E3FC;\n",
              "    }\n",
              "\n",
              "    [theme=dark] .colab-df-convert:hover {\n",
              "      background-color: #434B5C;\n",
              "      box-shadow: 0px 1px 3px 1px rgba(0, 0, 0, 0.15);\n",
              "      filter: drop-shadow(0px 1px 2px rgba(0, 0, 0, 0.3));\n",
              "      fill: #FFFFFF;\n",
              "    }\n",
              "  </style>\n",
              "\n",
              "      <script>\n",
              "        const buttonEl =\n",
              "          document.querySelector('#df-8b66e360-7870-4062-9e11-819578288316 button.colab-df-convert');\n",
              "        buttonEl.style.display =\n",
              "          google.colab.kernel.accessAllowed ? 'block' : 'none';\n",
              "\n",
              "        async function convertToInteractive(key) {\n",
              "          const element = document.querySelector('#df-8b66e360-7870-4062-9e11-819578288316');\n",
              "          const dataTable =\n",
              "            await google.colab.kernel.invokeFunction('convertToInteractive',\n",
              "                                                     [key], {});\n",
              "          if (!dataTable) return;\n",
              "\n",
              "          const docLinkHtml = 'Like what you see? Visit the ' +\n",
              "            '<a target=\"_blank\" href=https://colab.research.google.com/notebooks/data_table.ipynb>data table notebook</a>'\n",
              "            + ' to learn more about interactive tables.';\n",
              "          element.innerHTML = '';\n",
              "          dataTable['output_type'] = 'display_data';\n",
              "          await google.colab.output.renderOutput(dataTable, element);\n",
              "          const docLink = document.createElement('div');\n",
              "          docLink.innerHTML = docLinkHtml;\n",
              "          element.appendChild(docLink);\n",
              "        }\n",
              "      </script>\n",
              "    </div>\n",
              "  </div>\n",
              "  "
            ],
            "text/plain": [
              "   age     sex     bmi  children smoker     region      charges  south\n",
              "0   19  female  27.900         0    yes  southwest  16884.92400      1\n",
              "1   18    male  33.770         1     no  southeast   1725.55230      1\n",
              "2   28    male  33.000         3     no  southeast   4449.46200      1\n",
              "3   33    male  22.705         0     no  northwest  21984.47061      0\n",
              "4   32    male  28.880         0     no  northwest   3866.85520      0"
            ]
          },
          "metadata": {},
          "execution_count": 5
        }
      ]
    },
    {
      "cell_type": "markdown",
      "source": [
        "I will also add in a column with North and South categories. "
      ],
      "metadata": {
        "id": "h6BVVPUPNToz"
      }
    },
    {
      "cell_type": "code",
      "source": [
        "result=[]\n",
        "for value in insurance_df['south']:\n",
        "    if value == 0:\n",
        "      result.append('North')\n",
        "    else:\n",
        "      result.append('South')\n",
        "insurance_df['Regions'] = result \n",
        "print(insurance_df)"
      ],
      "metadata": {
        "colab": {
          "base_uri": "https://localhost:8080/"
        },
        "id": "WdMTH6B9Naw2",
        "outputId": "1112b7f9-00cc-4957-b2a7-a5f0137c4671"
      },
      "execution_count": null,
      "outputs": [
        {
          "output_type": "stream",
          "name": "stdout",
          "text": [
            "      age     sex     bmi  children  ...     region      charges  south  Regions\n",
            "0      19  female  27.900         0  ...  southwest  16884.92400      1    South\n",
            "1      18    male  33.770         1  ...  southeast   1725.55230      1    South\n",
            "2      28    male  33.000         3  ...  southeast   4449.46200      1    South\n",
            "3      33    male  22.705         0  ...  northwest  21984.47061      0    North\n",
            "4      32    male  28.880         0  ...  northwest   3866.85520      0    North\n",
            "...   ...     ...     ...       ...  ...        ...          ...    ...      ...\n",
            "1333   50    male  30.970         3  ...  northwest  10600.54830      0    North\n",
            "1334   18  female  31.920         0  ...  northeast   2205.98080      0    North\n",
            "1335   18  female  36.850         0  ...  southeast   1629.83350      1    South\n",
            "1336   21  female  25.800         0  ...  southwest   2007.94500      1    South\n",
            "1337   61  female  29.070         0  ...  northwest  29141.36030      0    North\n",
            "\n",
            "[1338 rows x 9 columns]\n"
          ]
        }
      ]
    },
    {
      "cell_type": "markdown",
      "source": [
        "***2) Age***\n",
        "\n",
        "In this cell I will divide Age into two categories, where Older than 40 = 1 and less than 40 = 0. This new column will be called middle_aged."
      ],
      "metadata": {
        "id": "-kWo9klfhumi"
      }
    },
    {
      "cell_type": "code",
      "source": [
        "insurance_df = insurance_df.assign(middle_aged = insurance_df['age']>39)\n",
        "insurance_df['middle_aged'] = insurance_df['middle_aged'].astype(int)\n",
        "insurance_df.head()"
      ],
      "metadata": {
        "colab": {
          "base_uri": "https://localhost:8080/",
          "height": 206
        },
        "id": "MGykgeo2-wpz",
        "outputId": "5cb8bc41-a345-4960-d78c-8f6a80cb066c"
      },
      "execution_count": null,
      "outputs": [
        {
          "output_type": "execute_result",
          "data": {
            "text/html": [
              "\n",
              "  <div id=\"df-adca8fcf-8c5a-490b-b576-0882c0889811\">\n",
              "    <div class=\"colab-df-container\">\n",
              "      <div>\n",
              "<style scoped>\n",
              "    .dataframe tbody tr th:only-of-type {\n",
              "        vertical-align: middle;\n",
              "    }\n",
              "\n",
              "    .dataframe tbody tr th {\n",
              "        vertical-align: top;\n",
              "    }\n",
              "\n",
              "    .dataframe thead th {\n",
              "        text-align: right;\n",
              "    }\n",
              "</style>\n",
              "<table border=\"1\" class=\"dataframe\">\n",
              "  <thead>\n",
              "    <tr style=\"text-align: right;\">\n",
              "      <th></th>\n",
              "      <th>age</th>\n",
              "      <th>sex</th>\n",
              "      <th>bmi</th>\n",
              "      <th>children</th>\n",
              "      <th>smoker</th>\n",
              "      <th>region</th>\n",
              "      <th>charges</th>\n",
              "      <th>south</th>\n",
              "      <th>Regions</th>\n",
              "      <th>middle_aged</th>\n",
              "    </tr>\n",
              "  </thead>\n",
              "  <tbody>\n",
              "    <tr>\n",
              "      <th>0</th>\n",
              "      <td>19</td>\n",
              "      <td>female</td>\n",
              "      <td>27.900</td>\n",
              "      <td>0</td>\n",
              "      <td>yes</td>\n",
              "      <td>southwest</td>\n",
              "      <td>16884.92400</td>\n",
              "      <td>1</td>\n",
              "      <td>South</td>\n",
              "      <td>0</td>\n",
              "    </tr>\n",
              "    <tr>\n",
              "      <th>1</th>\n",
              "      <td>18</td>\n",
              "      <td>male</td>\n",
              "      <td>33.770</td>\n",
              "      <td>1</td>\n",
              "      <td>no</td>\n",
              "      <td>southeast</td>\n",
              "      <td>1725.55230</td>\n",
              "      <td>1</td>\n",
              "      <td>South</td>\n",
              "      <td>0</td>\n",
              "    </tr>\n",
              "    <tr>\n",
              "      <th>2</th>\n",
              "      <td>28</td>\n",
              "      <td>male</td>\n",
              "      <td>33.000</td>\n",
              "      <td>3</td>\n",
              "      <td>no</td>\n",
              "      <td>southeast</td>\n",
              "      <td>4449.46200</td>\n",
              "      <td>1</td>\n",
              "      <td>South</td>\n",
              "      <td>0</td>\n",
              "    </tr>\n",
              "    <tr>\n",
              "      <th>3</th>\n",
              "      <td>33</td>\n",
              "      <td>male</td>\n",
              "      <td>22.705</td>\n",
              "      <td>0</td>\n",
              "      <td>no</td>\n",
              "      <td>northwest</td>\n",
              "      <td>21984.47061</td>\n",
              "      <td>0</td>\n",
              "      <td>North</td>\n",
              "      <td>0</td>\n",
              "    </tr>\n",
              "    <tr>\n",
              "      <th>4</th>\n",
              "      <td>32</td>\n",
              "      <td>male</td>\n",
              "      <td>28.880</td>\n",
              "      <td>0</td>\n",
              "      <td>no</td>\n",
              "      <td>northwest</td>\n",
              "      <td>3866.85520</td>\n",
              "      <td>0</td>\n",
              "      <td>North</td>\n",
              "      <td>0</td>\n",
              "    </tr>\n",
              "  </tbody>\n",
              "</table>\n",
              "</div>\n",
              "      <button class=\"colab-df-convert\" onclick=\"convertToInteractive('df-adca8fcf-8c5a-490b-b576-0882c0889811')\"\n",
              "              title=\"Convert this dataframe to an interactive table.\"\n",
              "              style=\"display:none;\">\n",
              "        \n",
              "  <svg xmlns=\"http://www.w3.org/2000/svg\" height=\"24px\"viewBox=\"0 0 24 24\"\n",
              "       width=\"24px\">\n",
              "    <path d=\"M0 0h24v24H0V0z\" fill=\"none\"/>\n",
              "    <path d=\"M18.56 5.44l.94 2.06.94-2.06 2.06-.94-2.06-.94-.94-2.06-.94 2.06-2.06.94zm-11 1L8.5 8.5l.94-2.06 2.06-.94-2.06-.94L8.5 2.5l-.94 2.06-2.06.94zm10 10l.94 2.06.94-2.06 2.06-.94-2.06-.94-.94-2.06-.94 2.06-2.06.94z\"/><path d=\"M17.41 7.96l-1.37-1.37c-.4-.4-.92-.59-1.43-.59-.52 0-1.04.2-1.43.59L10.3 9.45l-7.72 7.72c-.78.78-.78 2.05 0 2.83L4 21.41c.39.39.9.59 1.41.59.51 0 1.02-.2 1.41-.59l7.78-7.78 2.81-2.81c.8-.78.8-2.07 0-2.86zM5.41 20L4 18.59l7.72-7.72 1.47 1.35L5.41 20z\"/>\n",
              "  </svg>\n",
              "      </button>\n",
              "      \n",
              "  <style>\n",
              "    .colab-df-container {\n",
              "      display:flex;\n",
              "      flex-wrap:wrap;\n",
              "      gap: 12px;\n",
              "    }\n",
              "\n",
              "    .colab-df-convert {\n",
              "      background-color: #E8F0FE;\n",
              "      border: none;\n",
              "      border-radius: 50%;\n",
              "      cursor: pointer;\n",
              "      display: none;\n",
              "      fill: #1967D2;\n",
              "      height: 32px;\n",
              "      padding: 0 0 0 0;\n",
              "      width: 32px;\n",
              "    }\n",
              "\n",
              "    .colab-df-convert:hover {\n",
              "      background-color: #E2EBFA;\n",
              "      box-shadow: 0px 1px 2px rgba(60, 64, 67, 0.3), 0px 1px 3px 1px rgba(60, 64, 67, 0.15);\n",
              "      fill: #174EA6;\n",
              "    }\n",
              "\n",
              "    [theme=dark] .colab-df-convert {\n",
              "      background-color: #3B4455;\n",
              "      fill: #D2E3FC;\n",
              "    }\n",
              "\n",
              "    [theme=dark] .colab-df-convert:hover {\n",
              "      background-color: #434B5C;\n",
              "      box-shadow: 0px 1px 3px 1px rgba(0, 0, 0, 0.15);\n",
              "      filter: drop-shadow(0px 1px 2px rgba(0, 0, 0, 0.3));\n",
              "      fill: #FFFFFF;\n",
              "    }\n",
              "  </style>\n",
              "\n",
              "      <script>\n",
              "        const buttonEl =\n",
              "          document.querySelector('#df-adca8fcf-8c5a-490b-b576-0882c0889811 button.colab-df-convert');\n",
              "        buttonEl.style.display =\n",
              "          google.colab.kernel.accessAllowed ? 'block' : 'none';\n",
              "\n",
              "        async function convertToInteractive(key) {\n",
              "          const element = document.querySelector('#df-adca8fcf-8c5a-490b-b576-0882c0889811');\n",
              "          const dataTable =\n",
              "            await google.colab.kernel.invokeFunction('convertToInteractive',\n",
              "                                                     [key], {});\n",
              "          if (!dataTable) return;\n",
              "\n",
              "          const docLinkHtml = 'Like what you see? Visit the ' +\n",
              "            '<a target=\"_blank\" href=https://colab.research.google.com/notebooks/data_table.ipynb>data table notebook</a>'\n",
              "            + ' to learn more about interactive tables.';\n",
              "          element.innerHTML = '';\n",
              "          dataTable['output_type'] = 'display_data';\n",
              "          await google.colab.output.renderOutput(dataTable, element);\n",
              "          const docLink = document.createElement('div');\n",
              "          docLink.innerHTML = docLinkHtml;\n",
              "          element.appendChild(docLink);\n",
              "        }\n",
              "      </script>\n",
              "    </div>\n",
              "  </div>\n",
              "  "
            ],
            "text/plain": [
              "   age     sex     bmi  children  ...      charges south  Regions  middle_aged\n",
              "0   19  female  27.900         0  ...  16884.92400     1    South            0\n",
              "1   18    male  33.770         1  ...   1725.55230     1    South            0\n",
              "2   28    male  33.000         3  ...   4449.46200     1    South            0\n",
              "3   33    male  22.705         0  ...  21984.47061     0    North            0\n",
              "4   32    male  28.880         0  ...   3866.85520     0    North            0\n",
              "\n",
              "[5 rows x 10 columns]"
            ]
          },
          "metadata": {},
          "execution_count": 7
        }
      ]
    },
    {
      "cell_type": "code",
      "source": [
        "result=[]\n",
        "for value in insurance_df['middle_aged']:\n",
        "    if value == 0:\n",
        "      result.append('40 and Older')\n",
        "    else:\n",
        "      result.append('Under 40')\n",
        "insurance_df['Middle'] = result \n",
        "print(insurance_df)"
      ],
      "metadata": {
        "colab": {
          "base_uri": "https://localhost:8080/"
        },
        "id": "I7PFh1K5qOjS",
        "outputId": "0a5bffa5-8fd8-4a6f-81c0-8e0699e0b931"
      },
      "execution_count": null,
      "outputs": [
        {
          "output_type": "stream",
          "name": "stdout",
          "text": [
            "      age     sex     bmi  children  ... south Regions  middle_aged        Middle\n",
            "0      19  female  27.900         0  ...     1   South            0  40 and Older\n",
            "1      18    male  33.770         1  ...     1   South            0  40 and Older\n",
            "2      28    male  33.000         3  ...     1   South            0  40 and Older\n",
            "3      33    male  22.705         0  ...     0   North            0  40 and Older\n",
            "4      32    male  28.880         0  ...     0   North            0  40 and Older\n",
            "...   ...     ...     ...       ...  ...   ...     ...          ...           ...\n",
            "1333   50    male  30.970         3  ...     0   North            1      Under 40\n",
            "1334   18  female  31.920         0  ...     0   North            0  40 and Older\n",
            "1335   18  female  36.850         0  ...     1   South            0  40 and Older\n",
            "1336   21  female  25.800         0  ...     1   South            0  40 and Older\n",
            "1337   61  female  29.070         0  ...     0   North            1      Under 40\n",
            "\n",
            "[1338 rows x 11 columns]\n"
          ]
        }
      ]
    },
    {
      "cell_type": "markdown",
      "source": [
        "# **Final Data Frame**\n",
        "\n",
        "---\n",
        "\n"
      ],
      "metadata": {
        "id": "8f-aU_EqkZ8T"
      }
    },
    {
      "cell_type": "code",
      "source": [
        "insurance_df.head()"
      ],
      "metadata": {
        "colab": {
          "base_uri": "https://localhost:8080/",
          "height": 206
        },
        "id": "3jcPXAlyryr6",
        "outputId": "1a622410-eced-4128-8477-3e0b17a789f3"
      },
      "execution_count": null,
      "outputs": [
        {
          "output_type": "execute_result",
          "data": {
            "text/html": [
              "\n",
              "  <div id=\"df-588bd728-c661-4a61-93f3-db4088ade31c\">\n",
              "    <div class=\"colab-df-container\">\n",
              "      <div>\n",
              "<style scoped>\n",
              "    .dataframe tbody tr th:only-of-type {\n",
              "        vertical-align: middle;\n",
              "    }\n",
              "\n",
              "    .dataframe tbody tr th {\n",
              "        vertical-align: top;\n",
              "    }\n",
              "\n",
              "    .dataframe thead th {\n",
              "        text-align: right;\n",
              "    }\n",
              "</style>\n",
              "<table border=\"1\" class=\"dataframe\">\n",
              "  <thead>\n",
              "    <tr style=\"text-align: right;\">\n",
              "      <th></th>\n",
              "      <th>age</th>\n",
              "      <th>sex</th>\n",
              "      <th>bmi</th>\n",
              "      <th>children</th>\n",
              "      <th>smoker</th>\n",
              "      <th>region</th>\n",
              "      <th>charges</th>\n",
              "      <th>south</th>\n",
              "      <th>Regions</th>\n",
              "      <th>middle_aged</th>\n",
              "      <th>Middle</th>\n",
              "    </tr>\n",
              "  </thead>\n",
              "  <tbody>\n",
              "    <tr>\n",
              "      <th>0</th>\n",
              "      <td>19</td>\n",
              "      <td>female</td>\n",
              "      <td>27.900</td>\n",
              "      <td>0</td>\n",
              "      <td>yes</td>\n",
              "      <td>southwest</td>\n",
              "      <td>16884.92400</td>\n",
              "      <td>1</td>\n",
              "      <td>South</td>\n",
              "      <td>0</td>\n",
              "      <td>40 and Older</td>\n",
              "    </tr>\n",
              "    <tr>\n",
              "      <th>1</th>\n",
              "      <td>18</td>\n",
              "      <td>male</td>\n",
              "      <td>33.770</td>\n",
              "      <td>1</td>\n",
              "      <td>no</td>\n",
              "      <td>southeast</td>\n",
              "      <td>1725.55230</td>\n",
              "      <td>1</td>\n",
              "      <td>South</td>\n",
              "      <td>0</td>\n",
              "      <td>40 and Older</td>\n",
              "    </tr>\n",
              "    <tr>\n",
              "      <th>2</th>\n",
              "      <td>28</td>\n",
              "      <td>male</td>\n",
              "      <td>33.000</td>\n",
              "      <td>3</td>\n",
              "      <td>no</td>\n",
              "      <td>southeast</td>\n",
              "      <td>4449.46200</td>\n",
              "      <td>1</td>\n",
              "      <td>South</td>\n",
              "      <td>0</td>\n",
              "      <td>40 and Older</td>\n",
              "    </tr>\n",
              "    <tr>\n",
              "      <th>3</th>\n",
              "      <td>33</td>\n",
              "      <td>male</td>\n",
              "      <td>22.705</td>\n",
              "      <td>0</td>\n",
              "      <td>no</td>\n",
              "      <td>northwest</td>\n",
              "      <td>21984.47061</td>\n",
              "      <td>0</td>\n",
              "      <td>North</td>\n",
              "      <td>0</td>\n",
              "      <td>40 and Older</td>\n",
              "    </tr>\n",
              "    <tr>\n",
              "      <th>4</th>\n",
              "      <td>32</td>\n",
              "      <td>male</td>\n",
              "      <td>28.880</td>\n",
              "      <td>0</td>\n",
              "      <td>no</td>\n",
              "      <td>northwest</td>\n",
              "      <td>3866.85520</td>\n",
              "      <td>0</td>\n",
              "      <td>North</td>\n",
              "      <td>0</td>\n",
              "      <td>40 and Older</td>\n",
              "    </tr>\n",
              "  </tbody>\n",
              "</table>\n",
              "</div>\n",
              "      <button class=\"colab-df-convert\" onclick=\"convertToInteractive('df-588bd728-c661-4a61-93f3-db4088ade31c')\"\n",
              "              title=\"Convert this dataframe to an interactive table.\"\n",
              "              style=\"display:none;\">\n",
              "        \n",
              "  <svg xmlns=\"http://www.w3.org/2000/svg\" height=\"24px\"viewBox=\"0 0 24 24\"\n",
              "       width=\"24px\">\n",
              "    <path d=\"M0 0h24v24H0V0z\" fill=\"none\"/>\n",
              "    <path d=\"M18.56 5.44l.94 2.06.94-2.06 2.06-.94-2.06-.94-.94-2.06-.94 2.06-2.06.94zm-11 1L8.5 8.5l.94-2.06 2.06-.94-2.06-.94L8.5 2.5l-.94 2.06-2.06.94zm10 10l.94 2.06.94-2.06 2.06-.94-2.06-.94-.94-2.06-.94 2.06-2.06.94z\"/><path d=\"M17.41 7.96l-1.37-1.37c-.4-.4-.92-.59-1.43-.59-.52 0-1.04.2-1.43.59L10.3 9.45l-7.72 7.72c-.78.78-.78 2.05 0 2.83L4 21.41c.39.39.9.59 1.41.59.51 0 1.02-.2 1.41-.59l7.78-7.78 2.81-2.81c.8-.78.8-2.07 0-2.86zM5.41 20L4 18.59l7.72-7.72 1.47 1.35L5.41 20z\"/>\n",
              "  </svg>\n",
              "      </button>\n",
              "      \n",
              "  <style>\n",
              "    .colab-df-container {\n",
              "      display:flex;\n",
              "      flex-wrap:wrap;\n",
              "      gap: 12px;\n",
              "    }\n",
              "\n",
              "    .colab-df-convert {\n",
              "      background-color: #E8F0FE;\n",
              "      border: none;\n",
              "      border-radius: 50%;\n",
              "      cursor: pointer;\n",
              "      display: none;\n",
              "      fill: #1967D2;\n",
              "      height: 32px;\n",
              "      padding: 0 0 0 0;\n",
              "      width: 32px;\n",
              "    }\n",
              "\n",
              "    .colab-df-convert:hover {\n",
              "      background-color: #E2EBFA;\n",
              "      box-shadow: 0px 1px 2px rgba(60, 64, 67, 0.3), 0px 1px 3px 1px rgba(60, 64, 67, 0.15);\n",
              "      fill: #174EA6;\n",
              "    }\n",
              "\n",
              "    [theme=dark] .colab-df-convert {\n",
              "      background-color: #3B4455;\n",
              "      fill: #D2E3FC;\n",
              "    }\n",
              "\n",
              "    [theme=dark] .colab-df-convert:hover {\n",
              "      background-color: #434B5C;\n",
              "      box-shadow: 0px 1px 3px 1px rgba(0, 0, 0, 0.15);\n",
              "      filter: drop-shadow(0px 1px 2px rgba(0, 0, 0, 0.3));\n",
              "      fill: #FFFFFF;\n",
              "    }\n",
              "  </style>\n",
              "\n",
              "      <script>\n",
              "        const buttonEl =\n",
              "          document.querySelector('#df-588bd728-c661-4a61-93f3-db4088ade31c button.colab-df-convert');\n",
              "        buttonEl.style.display =\n",
              "          google.colab.kernel.accessAllowed ? 'block' : 'none';\n",
              "\n",
              "        async function convertToInteractive(key) {\n",
              "          const element = document.querySelector('#df-588bd728-c661-4a61-93f3-db4088ade31c');\n",
              "          const dataTable =\n",
              "            await google.colab.kernel.invokeFunction('convertToInteractive',\n",
              "                                                     [key], {});\n",
              "          if (!dataTable) return;\n",
              "\n",
              "          const docLinkHtml = 'Like what you see? Visit the ' +\n",
              "            '<a target=\"_blank\" href=https://colab.research.google.com/notebooks/data_table.ipynb>data table notebook</a>'\n",
              "            + ' to learn more about interactive tables.';\n",
              "          element.innerHTML = '';\n",
              "          dataTable['output_type'] = 'display_data';\n",
              "          await google.colab.output.renderOutput(dataTable, element);\n",
              "          const docLink = document.createElement('div');\n",
              "          docLink.innerHTML = docLinkHtml;\n",
              "          element.appendChild(docLink);\n",
              "        }\n",
              "      </script>\n",
              "    </div>\n",
              "  </div>\n",
              "  "
            ],
            "text/plain": [
              "   age     sex     bmi  children  ... south Regions  middle_aged        Middle\n",
              "0   19  female  27.900         0  ...     1   South            0  40 and Older\n",
              "1   18    male  33.770         1  ...     1   South            0  40 and Older\n",
              "2   28    male  33.000         3  ...     1   South            0  40 and Older\n",
              "3   33    male  22.705         0  ...     0   North            0  40 and Older\n",
              "4   32    male  28.880         0  ...     0   North            0  40 and Older\n",
              "\n",
              "[5 rows x 11 columns]"
            ]
          },
          "metadata": {},
          "execution_count": 9
        }
      ]
    },
    {
      "cell_type": "markdown",
      "source": [
        "The new data frame contains 11 columns and 1338 rows. \n",
        "\n"
      ],
      "metadata": {
        "id": "Slr8dmEfh58I"
      }
    },
    {
      "cell_type": "code",
      "source": [
        "insurance_df.info()"
      ],
      "metadata": {
        "colab": {
          "base_uri": "https://localhost:8080/"
        },
        "id": "nkIs3hFU-96_",
        "outputId": "06dccdd6-2a4f-4b1c-c758-8ba51634bb4a"
      },
      "execution_count": null,
      "outputs": [
        {
          "output_type": "stream",
          "name": "stdout",
          "text": [
            "<class 'pandas.core.frame.DataFrame'>\n",
            "RangeIndex: 1338 entries, 0 to 1337\n",
            "Data columns (total 11 columns):\n",
            " #   Column       Non-Null Count  Dtype  \n",
            "---  ------       --------------  -----  \n",
            " 0   age          1338 non-null   int64  \n",
            " 1   sex          1338 non-null   object \n",
            " 2   bmi          1338 non-null   float64\n",
            " 3   children     1338 non-null   int64  \n",
            " 4   smoker       1338 non-null   object \n",
            " 5   region       1338 non-null   object \n",
            " 6   charges      1338 non-null   float64\n",
            " 7   south        1338 non-null   uint8  \n",
            " 8   Regions      1338 non-null   object \n",
            " 9   middle_aged  1338 non-null   int64  \n",
            " 10  Middle       1338 non-null   object \n",
            "dtypes: float64(2), int64(3), object(5), uint8(1)\n",
            "memory usage: 106.0+ KB\n"
          ]
        }
      ]
    },
    {
      "cell_type": "markdown",
      "source": [
        "The smoker and sex columns have changed from the object/string datatype to unsigned integers. The south (unsigned integer datatype) and middle_aged (integer datatype) columns have also been added. There are still no null values."
      ],
      "metadata": {
        "id": "8616HAWDkXFh"
      }
    },
    {
      "cell_type": "markdown",
      "source": [
        "The correlation chart shows that there is a low correlation between factors. This is will be taken into account during my analysis of the t-test and confidence interval calculations. "
      ],
      "metadata": {
        "id": "T9cXWveiktAp"
      }
    },
    {
      "cell_type": "markdown",
      "source": [
        "***Distribution Test***\n",
        "\n",
        "\n",
        "\n"
      ],
      "metadata": {
        "id": "SHvyABuZfh7c"
      }
    },
    {
      "cell_type": "code",
      "source": [
        "sns.set_style(\"white\")\n",
        "ax = sns.distplot(insurance_df['bmi'])"
      ],
      "metadata": {
        "colab": {
          "base_uri": "https://localhost:8080/",
          "height": 285
        },
        "id": "vWSYAelJ_sTh",
        "outputId": "342cc39a-c17b-408f-d480-dce03ce23f24"
      },
      "execution_count": null,
      "outputs": [
        {
          "output_type": "display_data",
          "data": {
            "image/png": "[encoded data removed]",
            "text/plain": [
              "<Figure size 432x288 with 1 Axes>"
            ]
          },
          "metadata": {}
        }
      ]
    },
    {
      "cell_type": "markdown",
      "source": [
        "The above histogram shows that the BMI variable is approximately normally distributed and can be used in statistical testing. "
      ],
      "metadata": {
        "id": "NzdrBcdql-G6"
      }
    },
    {
      "cell_type": "markdown",
      "source": [
        "# **Null Hypothesis 1:** \n",
        "\n",
        "---\n",
        "\n",
        "There is no significant difference in BMI between beneficiaries that are older or younger than 40 years old."
      ],
      "metadata": {
        "id": "wkpqMPJ27qZg"
      }
    },
    {
      "cell_type": "markdown",
      "source": [
        "***Correlation chart***\n",
        "\n"
      ],
      "metadata": {
        "id": "v33loWbRkjX9"
      }
    },
    {
      "cell_type": "code",
      "source": [
        "insurance_df[['bmi', 'middle_aged']].corr()"
      ],
      "metadata": {
        "colab": {
          "base_uri": "https://localhost:8080/",
          "height": 112
        },
        "id": "0wg4orq_--Wg",
        "outputId": "48ef6b18-aa01-4e8c-f0c9-a52ef823ef5b"
      },
      "execution_count": null,
      "outputs": [
        {
          "output_type": "execute_result",
          "data": {
            "text/html": [
              "\n",
              "  <div id=\"df-aebdad67-b558-411c-84dd-5889dd90be17\">\n",
              "    <div class=\"colab-df-container\">\n",
              "      <div>\n",
              "<style scoped>\n",
              "    .dataframe tbody tr th:only-of-type {\n",
              "        vertical-align: middle;\n",
              "    }\n",
              "\n",
              "    .dataframe tbody tr th {\n",
              "        vertical-align: top;\n",
              "    }\n",
              "\n",
              "    .dataframe thead th {\n",
              "        text-align: right;\n",
              "    }\n",
              "</style>\n",
              "<table border=\"1\" class=\"dataframe\">\n",
              "  <thead>\n",
              "    <tr style=\"text-align: right;\">\n",
              "      <th></th>\n",
              "      <th>bmi</th>\n",
              "      <th>middle_aged</th>\n",
              "    </tr>\n",
              "  </thead>\n",
              "  <tbody>\n",
              "    <tr>\n",
              "      <th>bmi</th>\n",
              "      <td>1.000000</td>\n",
              "      <td>0.097257</td>\n",
              "    </tr>\n",
              "    <tr>\n",
              "      <th>middle_aged</th>\n",
              "      <td>0.097257</td>\n",
              "      <td>1.000000</td>\n",
              "    </tr>\n",
              "  </tbody>\n",
              "</table>\n",
              "</div>\n",
              "      <button class=\"colab-df-convert\" onclick=\"convertToInteractive('df-aebdad67-b558-411c-84dd-5889dd90be17')\"\n",
              "              title=\"Convert this dataframe to an interactive table.\"\n",
              "              style=\"display:none;\">\n",
              "        \n",
              "  <svg xmlns=\"http://www.w3.org/2000/svg\" height=\"24px\"viewBox=\"0 0 24 24\"\n",
              "       width=\"24px\">\n",
              "    <path d=\"M0 0h24v24H0V0z\" fill=\"none\"/>\n",
              "    <path d=\"M18.56 5.44l.94 2.06.94-2.06 2.06-.94-2.06-.94-.94-2.06-.94 2.06-2.06.94zm-11 1L8.5 8.5l.94-2.06 2.06-.94-2.06-.94L8.5 2.5l-.94 2.06-2.06.94zm10 10l.94 2.06.94-2.06 2.06-.94-2.06-.94-.94-2.06-.94 2.06-2.06.94z\"/><path d=\"M17.41 7.96l-1.37-1.37c-.4-.4-.92-.59-1.43-.59-.52 0-1.04.2-1.43.59L10.3 9.45l-7.72 7.72c-.78.78-.78 2.05 0 2.83L4 21.41c.39.39.9.59 1.41.59.51 0 1.02-.2 1.41-.59l7.78-7.78 2.81-2.81c.8-.78.8-2.07 0-2.86zM5.41 20L4 18.59l7.72-7.72 1.47 1.35L5.41 20z\"/>\n",
              "  </svg>\n",
              "      </button>\n",
              "      \n",
              "  <style>\n",
              "    .colab-df-container {\n",
              "      display:flex;\n",
              "      flex-wrap:wrap;\n",
              "      gap: 12px;\n",
              "    }\n",
              "\n",
              "    .colab-df-convert {\n",
              "      background-color: #E8F0FE;\n",
              "      border: none;\n",
              "      border-radius: 50%;\n",
              "      cursor: pointer;\n",
              "      display: none;\n",
              "      fill: #1967D2;\n",
              "      height: 32px;\n",
              "      padding: 0 0 0 0;\n",
              "      width: 32px;\n",
              "    }\n",
              "\n",
              "    .colab-df-convert:hover {\n",
              "      background-color: #E2EBFA;\n",
              "      box-shadow: 0px 1px 2px rgba(60, 64, 67, 0.3), 0px 1px 3px 1px rgba(60, 64, 67, 0.15);\n",
              "      fill: #174EA6;\n",
              "    }\n",
              "\n",
              "    [theme=dark] .colab-df-convert {\n",
              "      background-color: #3B4455;\n",
              "      fill: #D2E3FC;\n",
              "    }\n",
              "\n",
              "    [theme=dark] .colab-df-convert:hover {\n",
              "      background-color: #434B5C;\n",
              "      box-shadow: 0px 1px 3px 1px rgba(0, 0, 0, 0.15);\n",
              "      filter: drop-shadow(0px 1px 2px rgba(0, 0, 0, 0.3));\n",
              "      fill: #FFFFFF;\n",
              "    }\n",
              "  </style>\n",
              "\n",
              "      <script>\n",
              "        const buttonEl =\n",
              "          document.querySelector('#df-aebdad67-b558-411c-84dd-5889dd90be17 button.colab-df-convert');\n",
              "        buttonEl.style.display =\n",
              "          google.colab.kernel.accessAllowed ? 'block' : 'none';\n",
              "\n",
              "        async function convertToInteractive(key) {\n",
              "          const element = document.querySelector('#df-aebdad67-b558-411c-84dd-5889dd90be17');\n",
              "          const dataTable =\n",
              "            await google.colab.kernel.invokeFunction('convertToInteractive',\n",
              "                                                     [key], {});\n",
              "          if (!dataTable) return;\n",
              "\n",
              "          const docLinkHtml = 'Like what you see? Visit the ' +\n",
              "            '<a target=\"_blank\" href=https://colab.research.google.com/notebooks/data_table.ipynb>data table notebook</a>'\n",
              "            + ' to learn more about interactive tables.';\n",
              "          element.innerHTML = '';\n",
              "          dataTable['output_type'] = 'display_data';\n",
              "          await google.colab.output.renderOutput(dataTable, element);\n",
              "          const docLink = document.createElement('div');\n",
              "          docLink.innerHTML = docLinkHtml;\n",
              "          element.appendChild(docLink);\n",
              "        }\n",
              "      </script>\n",
              "    </div>\n",
              "  </div>\n",
              "  "
            ],
            "text/plain": [
              "                  bmi  middle_aged\n",
              "bmi          1.000000     0.097257\n",
              "middle_aged  0.097257     1.000000"
            ]
          },
          "metadata": {},
          "execution_count": 12
        }
      ]
    },
    {
      "cell_type": "markdown",
      "source": [
        "Correlation Results: The correlation chart shows a coefficient of 0.0972 which means that there is an extremely small correlation between the middle aged and BMI columns. The coefficient is positive which indicates that there is a positive relationship between the middle aged and BMI columns.\n",
        "\n"
      ],
      "metadata": {
        "id": "mSAVqO0Ynbys"
      }
    },
    {
      "cell_type": "markdown",
      "source": [
        "\n",
        "\n",
        "***T-test***\n",
        "\n",
        "\n",
        "\n"
      ],
      "metadata": {
        "id": "FEi9T9R5mz1P"
      }
    },
    {
      "cell_type": "code",
      "source": [
        "under_40 = insurance_df.iloc[(insurance_df['middle_aged']== 0).values]\n",
        "over_39 = insurance_df.iloc[(insurance_df['middle_aged']== 1).values]\n",
        "stats.ttest_ind(over_39['bmi'], under_40['bmi'])"
      ],
      "metadata": {
        "colab": {
          "base_uri": "https://localhost:8080/"
        },
        "id": "YyPT3kIH_59P",
        "outputId": "6ef2d0a7-6ac2-4214-b504-571afc8c4841"
      },
      "execution_count": null,
      "outputs": [
        {
          "output_type": "execute_result",
          "data": {
            "text/plain": [
              "Ttest_indResult(statistic=3.5718126505285333, pvalue=0.0003671115282211502)"
            ]
          },
          "metadata": {},
          "execution_count": 13
        }
      ]
    },
    {
      "cell_type": "markdown",
      "source": [
        "The t-test gives us two numbers, the first is the t-statistic and the second is the p-value. \n",
        "\n",
        "*T-statistic*: shows us a negative directionality and a difference of 3.57 standard deviations between the mean BMI of primary beneficiaries that are older or younger than 40. This indicates that the average over 39 BMI is 3.57 standards deviations higher than the average under 40 BMI.\n",
        "\n",
        "*P-value*: is 0.000367 which is very close to zero. This means we succeed in rejecting the null hypothesis with 95% confidence that there is no difference in BMI between beneficiaries that are older or younger than 40 years old. What this means in that it is unlikely that the difference in the means is due to random chance.\n"
      ],
      "metadata": {
        "id": "jGaPWv4ZnXaX"
      }
    },
    {
      "cell_type": "markdown",
      "source": [
        "***Confidence Interval Calculation***"
      ],
      "metadata": {
        "id": "Ff8BedtanmbJ"
      }
    },
    {
      "cell_type": "code",
      "source": [
        "age_1_n = under_40.shape[0]\n",
        "age_2_n = over_39.shape[0]\n",
        "age_1_mean = under_40['bmi'].mean()\n",
        "print(\"Under 40 mean =\", age_1_mean)\n",
        "age_2_mean = over_39['bmi'].mean()\n",
        "print(\"Over 40 mean =\", age_2_mean)\n",
        "age_1_var = under_40['bmi'].var()\n",
        "age_2_var = over_39['bmi'].var()\n",
        "std_err_difference = math.sqrt((age_1_var/age_1_n)+(age_2_var/age_2_n))\n",
        "\n",
        "mean_difference = age_2_mean - age_1_mean\n",
        "print(\"Mean difference =\", mean_difference)\n",
        "margin_of_error = 1.96 * std_err_difference\n",
        "ci_lower = mean_difference - margin_of_error\n",
        "ci_upper = mean_difference + margin_of_error\n",
        "\n",
        "print(\"The difference in means at the 95% confidence interval is between \"+str(ci_lower)+\" and \"+str(ci_upper)+\".\")"
      ],
      "metadata": {
        "colab": {
          "base_uri": "https://localhost:8080/"
        },
        "id": "653fbU-D_8Fv",
        "outputId": "f614a6b2-f338-45c0-bf1a-b8f6950bb8d6"
      },
      "execution_count": null,
      "outputs": [
        {
          "output_type": "stream",
          "name": "stdout",
          "text": [
            "Under 40 mean = 30.074940652818995\n",
            "Over 40 mean = 31.2607153614458\n",
            "Mean difference = 1.1857747086268056\n",
            "The difference in means at the 95% confidence interval is between 0.5353724476560268 and 1.8361769695975845.\n"
          ]
        }
      ]
    },
    {
      "cell_type": "markdown",
      "source": [
        "The upper and lower confidence intervals allow me to quantify the difference between the BMI in customers younger and older than 40 years old. The difference in means at the 95% confidence interval is between 0.535 and 1.836.\n",
        "\n",
        "This means that with 95% confidence we can see that the average BMI of beneficiaries that are older than 40 years old is between 0.535 and 1.836 higher than the average BMI's in customers that are younger than 40 years old. This difference we observe is very small, with an average BMI of 31.2607 for beneficiaries younger than 40 and an average BMI of 30.0749 there is no real impact to BMI."
      ],
      "metadata": {
        "id": "HkeNVW67tPGh"
      }
    },
    {
      "cell_type": "markdown",
      "source": [
        "### **Age Visualizations**"
      ],
      "metadata": {
        "id": "KrNt3e04pPMi"
      }
    },
    {
      "cell_type": "code",
      "source": [
        "sns.set_style(\"white\")\n",
        "plt.figure(figsize = (5,5))\n",
        "p=sns.barplot(x='Middle', y='bmi', data=insurance_df)\n",
        "plt.title(\"Average BMI by Age\", fontsize = 18)\n",
        "p.set_ylabel(\"BMI\", fontsize = 16)\n",
        "p.set_xlabel(\"Age\", fontsize = 16)\n",
        "sns.despine()"
      ],
      "metadata": {
        "colab": {
          "base_uri": "https://localhost:8080/",
          "height": 361
        },
        "id": "5b_qdeUVpOeg",
        "outputId": "f903947c-31c5-4fa2-9a7f-1244518f860d"
      },
      "execution_count": null,
      "outputs": [
        {
          "output_type": "display_data",
          "data": {
            "image/png": "[encoded data removed]",
            "text/plain": [
              "<Figure size 360x360 with 1 Axes>"
            ]
          },
          "metadata": {}
        }
      ]
    },
    {
      "cell_type": "code",
      "source": [
        "p= sns.boxplot(y=\"bmi\", x=\"Middle\", data= insurance_df)\n",
        "plt.title(\"Average BMI by Age\", fontsize = 20)\n",
        "p.set_ylabel(\"BMI\", fontsize = 18)\n",
        "p.set_xlabel(\"Middle\", fontsize = 18)"
      ],
      "metadata": {
        "colab": {
          "base_uri": "https://localhost:8080/",
          "height": 329
        },
        "id": "fkDod3TuqfJB",
        "outputId": "b22fb54b-af70-4a91-e051-aca90c9c19e4"
      },
      "execution_count": null,
      "outputs": [
        {
          "output_type": "execute_result",
          "data": {
            "text/plain": [
              "Text(0.5, 0, 'Middle')"
            ]
          },
          "metadata": {},
          "execution_count": 16
        },
        {
          "output_type": "display_data",
          "data": {
            "image/png": "[encoded data removed]",
            "text/plain": [
              "<Figure size 432x288 with 1 Axes>"
            ]
          },
          "metadata": {}
        }
      ]
    },
    {
      "cell_type": "code",
      "source": [
        "p=sns.scatterplot(x=\"age\", y= \"bmi\", hue= \"Middle\", data=insurance_df)\n",
        "plt.title(\"BMI vs Age\", fontsize = 20)\n",
        "p.set_ylabel(\"BMI\", fontsize = 18)\n",
        "p.set_xlabel(\"Age\", fontsize = 18)\n",
        "plt.legend(loc=\"right center\", bbox_to_anchor=(0.8, -0.20), ncol= 2)"
      ],
      "metadata": {
        "colab": {
          "base_uri": "https://localhost:8080/",
          "height": 355
        },
        "id": "JwHes2bQsE5U",
        "outputId": "16d3c244-973f-4e46-bde5-749a3673277a"
      },
      "execution_count": null,
      "outputs": [
        {
          "output_type": "execute_result",
          "data": {
            "text/plain": [
              "<matplotlib.legend.Legend at 0x7ff13503efd0>"
            ]
          },
          "metadata": {},
          "execution_count": 17
        },
        {
          "output_type": "display_data",
          "data": {
            "image/png": "[encoded data removed]",
            "text/plain": [
              "<Figure size 432x288 with 1 Axes>"
            ]
          },
          "metadata": {}
        }
      ]
    },
    {
      "cell_type": "markdown",
      "source": [
        "# **Null Hypothesis 2:** \n",
        "\n",
        "---\n",
        "\n",
        "\n",
        "There is no significant difference in BMI between the northern and southern regions of the beneficiary’s residences. "
      ],
      "metadata": {
        "id": "QOlrKbfh74nc"
      }
    },
    {
      "cell_type": "markdown",
      "source": [
        "***Correlation chart***"
      ],
      "metadata": {
        "id": "vjq0X4EetYys"
      }
    },
    {
      "cell_type": "code",
      "source": [
        "insurance_df[['bmi', 'south']].corr()"
      ],
      "metadata": {
        "colab": {
          "base_uri": "https://localhost:8080/",
          "height": 112
        },
        "id": "XAvYCPjDtdU0",
        "outputId": "9351d4d5-16a6-45c0-d5b5-3dd90d75ffe0"
      },
      "execution_count": null,
      "outputs": [
        {
          "output_type": "execute_result",
          "data": {
            "text/html": [
              "\n",
              "  <div id=\"df-e0f709ef-57aa-4140-ab83-2c40a7c2d4ba\">\n",
              "    <div class=\"colab-df-container\">\n",
              "      <div>\n",
              "<style scoped>\n",
              "    .dataframe tbody tr th:only-of-type {\n",
              "        vertical-align: middle;\n",
              "    }\n",
              "\n",
              "    .dataframe tbody tr th {\n",
              "        vertical-align: top;\n",
              "    }\n",
              "\n",
              "    .dataframe thead th {\n",
              "        text-align: right;\n",
              "    }\n",
              "</style>\n",
              "<table border=\"1\" class=\"dataframe\">\n",
              "  <thead>\n",
              "    <tr style=\"text-align: right;\">\n",
              "      <th></th>\n",
              "      <th>bmi</th>\n",
              "      <th>south</th>\n",
              "    </tr>\n",
              "  </thead>\n",
              "  <tbody>\n",
              "    <tr>\n",
              "      <th>bmi</th>\n",
              "      <td>1.000000</td>\n",
              "      <td>0.235113</td>\n",
              "    </tr>\n",
              "    <tr>\n",
              "      <th>south</th>\n",
              "      <td>0.235113</td>\n",
              "      <td>1.000000</td>\n",
              "    </tr>\n",
              "  </tbody>\n",
              "</table>\n",
              "</div>\n",
              "      <button class=\"colab-df-convert\" onclick=\"convertToInteractive('df-e0f709ef-57aa-4140-ab83-2c40a7c2d4ba')\"\n",
              "              title=\"Convert this dataframe to an interactive table.\"\n",
              "              style=\"display:none;\">\n",
              "        \n",
              "  <svg xmlns=\"http://www.w3.org/2000/svg\" height=\"24px\"viewBox=\"0 0 24 24\"\n",
              "       width=\"24px\">\n",
              "    <path d=\"M0 0h24v24H0V0z\" fill=\"none\"/>\n",
              "    <path d=\"M18.56 5.44l.94 2.06.94-2.06 2.06-.94-2.06-.94-.94-2.06-.94 2.06-2.06.94zm-11 1L8.5 8.5l.94-2.06 2.06-.94-2.06-.94L8.5 2.5l-.94 2.06-2.06.94zm10 10l.94 2.06.94-2.06 2.06-.94-2.06-.94-.94-2.06-.94 2.06-2.06.94z\"/><path d=\"M17.41 7.96l-1.37-1.37c-.4-.4-.92-.59-1.43-.59-.52 0-1.04.2-1.43.59L10.3 9.45l-7.72 7.72c-.78.78-.78 2.05 0 2.83L4 21.41c.39.39.9.59 1.41.59.51 0 1.02-.2 1.41-.59l7.78-7.78 2.81-2.81c.8-.78.8-2.07 0-2.86zM5.41 20L4 18.59l7.72-7.72 1.47 1.35L5.41 20z\"/>\n",
              "  </svg>\n",
              "      </button>\n",
              "      \n",
              "  <style>\n",
              "    .colab-df-container {\n",
              "      display:flex;\n",
              "      flex-wrap:wrap;\n",
              "      gap: 12px;\n",
              "    }\n",
              "\n",
              "    .colab-df-convert {\n",
              "      background-color: #E8F0FE;\n",
              "      border: none;\n",
              "      border-radius: 50%;\n",
              "      cursor: pointer;\n",
              "      display: none;\n",
              "      fill: #1967D2;\n",
              "      height: 32px;\n",
              "      padding: 0 0 0 0;\n",
              "      width: 32px;\n",
              "    }\n",
              "\n",
              "    .colab-df-convert:hover {\n",
              "      background-color: #E2EBFA;\n",
              "      box-shadow: 0px 1px 2px rgba(60, 64, 67, 0.3), 0px 1px 3px 1px rgba(60, 64, 67, 0.15);\n",
              "      fill: #174EA6;\n",
              "    }\n",
              "\n",
              "    [theme=dark] .colab-df-convert {\n",
              "      background-color: #3B4455;\n",
              "      fill: #D2E3FC;\n",
              "    }\n",
              "\n",
              "    [theme=dark] .colab-df-convert:hover {\n",
              "      background-color: #434B5C;\n",
              "      box-shadow: 0px 1px 3px 1px rgba(0, 0, 0, 0.15);\n",
              "      filter: drop-shadow(0px 1px 2px rgba(0, 0, 0, 0.3));\n",
              "      fill: #FFFFFF;\n",
              "    }\n",
              "  </style>\n",
              "\n",
              "      <script>\n",
              "        const buttonEl =\n",
              "          document.querySelector('#df-e0f709ef-57aa-4140-ab83-2c40a7c2d4ba button.colab-df-convert');\n",
              "        buttonEl.style.display =\n",
              "          google.colab.kernel.accessAllowed ? 'block' : 'none';\n",
              "\n",
              "        async function convertToInteractive(key) {\n",
              "          const element = document.querySelector('#df-e0f709ef-57aa-4140-ab83-2c40a7c2d4ba');\n",
              "          const dataTable =\n",
              "            await google.colab.kernel.invokeFunction('convertToInteractive',\n",
              "                                                     [key], {});\n",
              "          if (!dataTable) return;\n",
              "\n",
              "          const docLinkHtml = 'Like what you see? Visit the ' +\n",
              "            '<a target=\"_blank\" href=https://colab.research.google.com/notebooks/data_table.ipynb>data table notebook</a>'\n",
              "            + ' to learn more about interactive tables.';\n",
              "          element.innerHTML = '';\n",
              "          dataTable['output_type'] = 'display_data';\n",
              "          await google.colab.output.renderOutput(dataTable, element);\n",
              "          const docLink = document.createElement('div');\n",
              "          docLink.innerHTML = docLinkHtml;\n",
              "          element.appendChild(docLink);\n",
              "        }\n",
              "      </script>\n",
              "    </div>\n",
              "  </div>\n",
              "  "
            ],
            "text/plain": [
              "            bmi     south\n",
              "bmi    1.000000  0.235113\n",
              "south  0.235113  1.000000"
            ]
          },
          "metadata": {},
          "execution_count": 18
        }
      ]
    },
    {
      "cell_type": "code",
      "source": [
        "stats.pearsonr(insurance_df['south'], insurance_df['bmi'])"
      ],
      "metadata": {
        "colab": {
          "base_uri": "https://localhost:8080/"
        },
        "id": "Itoj-dIcE1R2",
        "outputId": "42eb3b5c-e124-41ea-e67c-37a1e679e7e0"
      },
      "execution_count": null,
      "outputs": [
        {
          "output_type": "execute_result",
          "data": {
            "text/plain": [
              "(0.23511279757695452, 2.9199912529441028e-18)"
            ]
          },
          "metadata": {},
          "execution_count": 19
        }
      ]
    },
    {
      "cell_type": "markdown",
      "source": [
        "Correlation Results: The correlation chart shows a coefficient of 0.235 which means that there is a small correlation between the south and BMI columns. The coefficient is positive which indicates that there is a positive relationship between the south and BMI columns.\n"
      ],
      "metadata": {
        "id": "MaDDKbf2tv19"
      }
    },
    {
      "cell_type": "markdown",
      "source": [
        "***T-test***"
      ],
      "metadata": {
        "id": "jhym4TBTtvis"
      }
    },
    {
      "cell_type": "code",
      "source": [
        "north_df = insurance_df.iloc[(insurance_df['south']== 0).values]\n",
        "south_df = insurance_df.iloc[(insurance_df['south']== 1).values]\n",
        "stats.ttest_ind(north_df['bmi'], south_df['bmi'])"
      ],
      "metadata": {
        "colab": {
          "base_uri": "https://localhost:8080/"
        },
        "id": "AW3WyL1n_97W",
        "outputId": "0322b0d1-da6c-4d86-f865-c1f2d4649496"
      },
      "execution_count": null,
      "outputs": [
        {
          "output_type": "execute_result",
          "data": {
            "text/plain": [
              "Ttest_indResult(statistic=-8.841531326892444, pvalue=2.9199912529424176e-18)"
            ]
          },
          "metadata": {},
          "execution_count": 20
        }
      ]
    },
    {
      "cell_type": "markdown",
      "source": [
        "The t-test gives us two numbers, the first is the t-statistic and the second is the p-value. \n",
        "\n",
        "*T-statistic*: shows us a negative directionality and a difference of 8.84 standard deviations between the mean BMI in the south and the mean BMI in the north. This indicates that the average southern BMI is 8.84 standards deviations higher than the average northern BMI. \n",
        "\n",
        "*P-value*: is 2.91999e-18 which is very close to zero. This means we succeed in rejecting the null hypothesis with 95% confidence that there is no difference in BMI between the northern and southern regions of the beneficiary’s residences. What this means in that it is unlikely that the difference in the means is due to random chance."
      ],
      "metadata": {
        "id": "okafVbK1t-Fx"
      }
    },
    {
      "cell_type": "markdown",
      "source": [
        "***Confidence Interval Calulation***"
      ],
      "metadata": {
        "id": "0eZj6KJxuLWL"
      }
    },
    {
      "cell_type": "code",
      "source": [
        "region_1_n = north_df.shape[0]\n",
        "region_2_n = south_df.shape[0]\n",
        "region_1_mean = north_df['bmi'].mean()\n",
        "print(\"Northern region mean =\", region_1_mean)\n",
        "region_2_mean = south_df['bmi'].mean()\n",
        "print(\"Southern region mean =\", region_2_mean)\n",
        "region_1_var = north_df['bmi'].var()\n",
        "region_2_var = south_df['bmi'].var()\n",
        "std_err_difference = math.sqrt((region_1_var/region_1_n)+(region_2_var/region_2_n))\n",
        "print(\"standard error of difference =\", std_err_difference)\n",
        "mean_difference = region_2_mean - region_1_mean\n",
        "print(\"Mean difference =\", mean_difference)\n",
        "margin_of_error = 1.96 * std_err_difference\n",
        "print(\"confidence interval = 0.6342409723059248\", )\n",
        "ci_lower = mean_difference - margin_of_error\n",
        "ci_upper = mean_difference + margin_of_error\n",
        "print(\"lower limit = 2.233492606874719\")\n",
        "print(\"upper limit = 3.5019745514866569\")\n",
        "print(\"c.i lower =\", ci_lower)\n",
        "print(\"c.i upper =\", ci_upper)"
      ],
      "metadata": {
        "colab": {
          "base_uri": "https://localhost:8080/"
        },
        "id": "7-2hjP0l__sn",
        "outputId": "c644aad8-104d-4bd0-a8ef-d1733d71dfbc"
      },
      "execution_count": null,
      "outputs": [
        {
          "output_type": "stream",
          "name": "stdout",
          "text": [
            "Northern region mean = 29.186664098613257\n",
            "Southern region mean = 32.0543976777939\n",
            "standard error of difference = 0.32316882402243324\n",
            "Mean difference = 2.867733579180644\n",
            "confidence interval = 0.6342409723059248\n",
            "lower limit = 2.233492606874719\n",
            "upper limit = 3.5019745514866569\n",
            "c.i lower = 2.234322684096675\n",
            "c.i upper = 3.5011444742646134\n"
          ]
        }
      ]
    },
    {
      "cell_type": "markdown",
      "source": [
        "The upper and lower confidence intervals allow me to quantify the difference between the BMI in the southern and northern regions. The difference in means at the 95% confidence interval is between 2.234 and 3.501.\n",
        "\n",
        "This means that with 95% confidence we can see that the average BMI of beneficiaries in the southern regions are between 2.2 and 3.5 higher than the average BMI's in the northern regions. This is not a very large difference, however if you take into account that the average BMI in the north is about 29.18 this difference does become significant in that the difference is large enough to cause a change in the BMI category from healthy (under 30) to obese (30 or higher). This is significant due to the link that has been found between higher BMI and the overall cost of healthcare of individuals that are obese. "
      ],
      "metadata": {
        "id": "mApxGVzBuS9k"
      }
    },
    {
      "cell_type": "markdown",
      "source": [
        "### ***Region Visualization***"
      ],
      "metadata": {
        "id": "DMKwN-ykqykt"
      }
    },
    {
      "cell_type": "code",
      "source": [
        "sns.set_style(\"white\")\n",
        "plt.figure(figsize = (5,6))\n",
        "p=sns.barplot(x='Regions', y='bmi', data=insurance_df)\n",
        "plt.title(\"Average BMI by Region\", fontsize = 18)\n",
        "p.set_ylabel(\"BMI\", fontsize = 16)\n",
        "p.set_xlabel(\"Region\", fontsize = 16)\n",
        "sns.despine()"
      ],
      "metadata": {
        "colab": {
          "base_uri": "https://localhost:8080/",
          "height": 416
        },
        "id": "W6qidjTbVsi8",
        "outputId": "a722d4b3-76d7-409e-b286-f4ca898721d6"
      },
      "execution_count": null,
      "outputs": [
        {
          "output_type": "display_data",
          "data": {
            "image/png": "[encoded data removed]",
            "text/plain": [
              "<Figure size 360x432 with 1 Axes>"
            ]
          },
          "metadata": {}
        }
      ]
    },
    {
      "cell_type": "code",
      "source": [
        "p = sns.boxplot(y=\"bmi\", x=\"Regions\", data= insurance_df)\n",
        "plt.title(\"Average BMI by Region\", fontsize = 20)\n",
        "p.set_ylabel(\"BMI\", fontsize = 18)\n",
        "p.set_xlabel(\"Regions\", fontsize = 18)"
      ],
      "metadata": {
        "colab": {
          "base_uri": "https://localhost:8080/",
          "height": 329
        },
        "id": "qa4DbNiEmPPm",
        "outputId": "1dfa8526-004c-4f6a-ff2e-36e43dc654d1"
      },
      "execution_count": null,
      "outputs": [
        {
          "output_type": "execute_result",
          "data": {
            "text/plain": [
              "Text(0.5, 0, 'Regions')"
            ]
          },
          "metadata": {},
          "execution_count": 23
        },
        {
          "output_type": "display_data",
          "data": {
            "image/png": "[encoded data removed]",
            "text/plain": [
              "<Figure size 432x288 with 1 Axes>"
            ]
          },
          "metadata": {}
        }
      ]
    },
    {
      "cell_type": "code",
      "source": [
        "sns.set_style(\"white\")\n",
        "plt.figure(figsize = (5,5))\n",
        "p=sns.barplot(x='region', y='bmi', data=insurance_df)\n",
        "plt.title(\"Average BMI by Region\", fontsize = 18)\n",
        "p.set_ylabel(\"BMI\", fontsize = 16)\n",
        "p.set_xlabel(\"Region\", fontsize = 16)"
      ],
      "metadata": {
        "colab": {
          "base_uri": "https://localhost:8080/",
          "height": 379
        },
        "id": "LrMhWqsCsXtM",
        "outputId": "32d3fde8-4167-4a78-83d2-75a759a6dbd5"
      },
      "execution_count": null,
      "outputs": [
        {
          "output_type": "execute_result",
          "data": {
            "text/plain": [
              "Text(0.5, 0, 'Region')"
            ]
          },
          "metadata": {},
          "execution_count": 24
        },
        {
          "output_type": "display_data",
          "data": {
            "image/png": "[encoded data removed]",
            "text/plain": [
              "<Figure size 360x360 with 1 Axes>"
            ]
          },
          "metadata": {}
        }
      ]
    },
    {
      "cell_type": "code",
      "source": [
        "sns.lmplot(x=\"age\", y=\"bmi\", hue= \"Regions\", data=insurance_df)"
      ],
      "metadata": {
        "colab": {
          "base_uri": "https://localhost:8080/",
          "height": 387
        },
        "id": "OWC86r4WdcTm",
        "outputId": "4ad44a77-65f1-40cc-af54-d426fc3a50dd"
      },
      "execution_count": null,
      "outputs": [
        {
          "output_type": "execute_result",
          "data": {
            "text/plain": [
              "<seaborn.axisgrid.FacetGrid at 0x7ff1336b6b90>"
            ]
          },
          "metadata": {},
          "execution_count": 25
        },
        {
          "output_type": "display_data",
          "data": {
            "image/png": "[encoded data removed]",
            "text/plain": [
              "<Figure size 431.6x360 with 1 Axes>"
            ]
          },
          "metadata": {}
        }
      ]
    },
    {
      "cell_type": "markdown",
      "source": [
        "# Recommendations\n",
        "\n",
        "---\n",
        "\n"
      ],
      "metadata": {
        "id": "809uL704-GsH"
      }
    },
    {
      "cell_type": "markdown",
      "source": [
        "The objective of this project was to identify potential factors in determining a beneficiaries BMI in order to provide recommendations on how those risk factors can be used to drive business objectives. \n",
        "\n",
        "\n",
        "\n"
      ],
      "metadata": {
        "id": "lVC4roa9wois"
      }
    },
    {
      "cell_type": "markdown",
      "source": [
        "**Age Hypothesis Recommendation**\n"
      ],
      "metadata": {
        "id": "M57DdKRSzsSn"
      }
    },
    {
      "cell_type": "markdown",
      "source": [
        "The results of my t-test had a very small p-value of 0.000367 so was I able to reject my null hypothesis that there is no significant difference in BMI between beneficiaries that are older or younger than 40 years old, however based on my findings it is clear that being older or younger than 40 years old is not a factor that should be used to determine BMI. \n",
        "\n",
        "My statistical testing showed \n",
        "an extremely low correlation, a very small difference in means of only 1.185 and means of 31.2607 for beneficiaries over 40 years old and 30.0749 for beneficiaries under 40 years old. The two means being above the CDC's defined BMI in determining obesity of 30.0 and a confidence interval of between 0.535 and 1.836 allowed me to quantify the actual effect age has on BMI. This information indicates that although we can be 95% confident in the amount of difference between the two means, the actual difference is so small that it has no real world-significance.  "
      ],
      "metadata": {
        "id": "JtfwKiSHz2eT"
      }
    },
    {
      "cell_type": "markdown",
      "source": [
        "***Region Hypothesis Recommendation***"
      ],
      "metadata": {
        "id": "n84z0yX40Awz"
      }
    },
    {
      "cell_type": "markdown",
      "source": [
        "Based on my findings I would recommend that Region be used as a risk factor for determining BMI. With a low p-value of 2.9199912529424176e-18 we can reject the null hypothesis that there is no significant difference in BMI between the northern and southern regions of the beneficiary’s residences. More importantly we observe that the mean BMI in the south is 32.054 and 29.187 in the north. This difference in means puts the south above the obesity level of 30.0 as defined by the CDC. This results in the southern region being in an entirely different BMI health risk category than the northern regions. The confidence interval calculation supports this with 95% confidence we can see that the average BMI of beneficiaries in the southern regions are between 2.2 and 3.5 higher than the average BMI's in the northern regions. Meaning we are 95% confident that the difference we observe between average BMI's in the north in the south with put result in the average BMI in the south being well over the obesity amount of 30.0.\n",
        "\n",
        "This can be used by employers with workers located nationally to target their employee health programs more affectively by understanding that employees located in the south should have health plans targeted differently than those in the north. For example, they could target nutritional and physical exercise plans to southern employees more than northern employees due to the higher BMI observed in the south. This will allow them to improve employee health and decrease their health care expenditures."
      ],
      "metadata": {
        "id": "udyEShvI_CVX"
      }
    },
    {
      "cell_type": "code",
      "source": [
        ""
      ],
      "metadata": {
        "id": "z_pCT2SwLKFJ"
      },
      "execution_count": null,
      "outputs": []
    }
  ]
}